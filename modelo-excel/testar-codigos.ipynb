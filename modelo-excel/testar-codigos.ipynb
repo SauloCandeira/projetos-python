{
 "cells": [
  {
   "cell_type": "code",
   "execution_count": null,
   "source": [
    "import pandas as pd\r\n",
    "import pyodbc \r\n",
    "import matplotlib.pyplot as plt \r\n",
    "\r\n",
    "#server = '10.****' \r\n",
    "#database = '****' \r\n",
    "#username = '***' \r\n",
    "#password = '***' \r\n",
    "conn = pyodbc.connect('DRIVER={ODBC Driver 17 for SQL Server};SERVER=4A422DR3Z;DATABASE=imp-cgdf;Trusted_Connection=yes;')\r\n",
    "\r\n",
    "def connectSQLServer(conn):\r\n",
    "    connSQLServer = conn\r\n",
    "    return connSQLServer\r\n",
    "\r\n",
    "sql_query = ('''\r\n",
    "                     SELECT * FROM impressoras ORDER BY tonner\r\n",
    "                '''\r\n",
    "            )\r\n",
    "\r\n",
    "df = pd.read_sql(sql_query,conn)\r\n",
    "df.to_excel(\"Impressoras.xlsx\",sheet_name='Results')\r\n",
    "print(df)"
   ],
   "outputs": [],
   "metadata": {}
  },
  {
   "cell_type": "code",
   "execution_count": null,
   "source": [
    "# TRATAMENTO DE DADOS\r\n",
    "x =  (df[\"nome\"])\r\n",
    "y =  (df[\"tonner\"])\r\n",
    "w =  (df[\"total_impressao\"])\r\n",
    "\r\n",
    "# RELATORIO\r\n",
    "relatorio = pd.concat([x,y,w], axis=1)\r\n",
    "print(relatorio)\r\n",
    "\r\n",
    "# GERAR GRAFICOS\r\n",
    "figura = plt.figure(figsize=(30,15))\r\n",
    "figura.suptitle('Impressoras CGDF')\r\n",
    "\r\n",
    "# ---------- GRAFICO I\r\n",
    "figura.add_subplot(111)\r\n",
    "# 123 - 1 = Linha 2 = Coluna 3 = Posição\r\n",
    "plt.bar(x, y, label= 'Dados Tonner')\r\n",
    "plt.legend()\r\n",
    "plt.title('Grafico I')\r\n",
    "plt.axis('auto')\r\n",
    "\r\n",
    "# ---------- GRAFICO II\r\n",
    "#figura.add_subplot(311)\r\n",
    "# 123 - 1 = Linha 2 = Coluna 3 = Posição\r\n",
    "#plt.plot(x, w, label = 'Dados Impressão')\r\n",
    "#plt.title('Grafico II')\r\n",
    "#plt.axis('auto')\r\n",
    "\r\n",
    "#plt.bar(x, y)\r\n",
    "#plt.xticks([0, 25, 50, 75, 100])\r\n",
    "#plt.yticks([0, 25, 50, 75, 100])\r\n",
    "plt.axis('auto')\r\n",
    "#plt.axis('square')\r\n",
    "#plt.ylim(0,100)\r\n",
    "#plt.xlim(0,40)"
   ],
   "outputs": [],
   "metadata": {}
  },
  {
   "cell_type": "code",
   "execution_count": null,
   "source": [
    "#------------------ CARGA 1\r\n",
    "d1 = df.loc[df['dt'] == '2021-09-14', ['tonner']]\r\n",
    "d2 = df.loc[df['dt'] == '2021-09-15', ['tonner']]\r\n",
    "\r\n",
    "\r\n",
    "#data_one = df.loc[df['dt'] == '2021-09-14', ['tonner']]\r\n",
    "#data_one = df.loc[df['dt'] == '2021-09-14', ['nome', 'tonner','dt']]\r\n",
    "#print(data_one)\r\n",
    "#data1 = (df[\"dt\"]) == '2021-09-14'\r\n",
    "#data1 = df.loc[df['dt'] == '2021-09-14']\r\n",
    "#data2 = df.loc[df['dt'] == '2021-09-15']\r\n",
    "\r\n",
    "#print(data1)\r\n",
    "\r\n",
    "#------------------ CARGA 2\r\n",
    "#data_two = df.loc[df['dt'] == '2021-09-15', ['tonner']]\r\n",
    "#print(data_two)\r\n",
    "#data2 = (df[\"dt\"]) == '2021-09-15'\r\n",
    "#data2.rename(columns={'dt':'Data 2'})\r\n",
    "\r\n",
    "#------------------ RELATORIOS\r\n",
    "relatorio_data = pd.concat([data_one,data_two], axis=1)\r\n",
    "print(relatorio_data)\r\n",
    "\r\n"
   ],
   "outputs": [],
   "metadata": {}
  }
 ],
 "metadata": {
  "kernelspec": {
   "name": "python3",
   "display_name": "Python 3.9.6 64-bit"
  },
  "language_info": {
   "codemirror_mode": {
    "name": "ipython",
    "version": 3
   },
   "file_extension": ".py",
   "mimetype": "text/x-python",
   "name": "python",
   "nbconvert_exporter": "python",
   "pygments_lexer": "ipython3",
   "version": "3.9.6"
  },
  "interpreter": {
   "hash": "b068ed34e08882765f10add0a52e993cc70691c2b6f27f35aa1dca1c7b0e4a39"
  }
 },
 "nbformat": 4,
 "nbformat_minor": 5
}