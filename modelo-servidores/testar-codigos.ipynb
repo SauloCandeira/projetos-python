{
 "cells": [
  {
   "cell_type": "code",
   "execution_count": 5,
   "source": [
    "import dash\r\n",
    "import dash_core_components as dcc\r\n",
    "import dash_html_components as html\r\n",
    "from random import random\r\n",
    "import plotly\r\n",
    "import plotly.express as px\r\n",
    "import pandas as pd\r\n",
    "import numpy as np\r\n",
    "from datetime import datetime\r\n",
    "from dash.exceptions import PreventUpdate\r\n",
    "from dash.dependencies import Input, Output\r\n",
    "import dash_bootstrap_components as dbc\r\n",
    "import pyodbc \r\n",
    "import dash_table\r\n",
    "global data\r\n",
    "\r\n",
    "app = dash.Dash(__name__, external_stylesheets=[dbc.themes.MINTY, 'https://use.fontawesome.com/releases/v5.9.0/css/all.css'])\r\n",
    "\r\n",
    "#server = '10.****' \r\n",
    "#database = '****' \r\n",
    "#username = '***' \r\n",
    "#password = '***' \r\n",
    "conn = pyodbc.connect('DRIVER={ODBC Driver 17 for SQL Server};SERVER=4A422DR3Z;DATABASE=imp-cgdf;Trusted_Connection=yes;')\r\n",
    "\r\n",
    "def connectSQLServer(conn):\r\n",
    "    connSQLServer = conn\r\n",
    "    return connSQLServer\r\n",
    "\r\n",
    "sql_query = ('''\r\n",
    "                     SELECT * FROM impressoras\r\n",
    "                '''\r\n",
    "            )\r\n",
    "\r\n",
    "df = pd.read_sql(sql_query,conn)\r\n",
    "df.to_excel(\"FileExample.xlsx\",sheet_name='Results')\r\n",
    "print(df)"
   ],
   "outputs": [
    {
     "output_type": "stream",
     "name": "stdout",
     "text": [
      "   tonner    nome          ipv4 andar  sala          setor total_impressao  \\\n",
      "0    ERRO    ERRO          ERRO  ERRO  ERRO           ERRO            ERRO   \n",
      "1      26  IMP-03  172.16.11.36    12  1207          CODEO           15521   \n",
      "2      37  IMP-05  172.16.12.31    13  1314            AJL           46036   \n",
      "3    ERRO    ERRO          ERRO  ERRO  ERRO           ERRO            ERRO   \n",
      "4      63  IMP-10  172.16.10.38    12  1210          SUBTC           37715   \n",
      "5      78  IMP-12  172.16.12.37    13  1300  GABINETE CGDF           37827   \n",
      "6       1  IMP-14  172.16.12.39    12  1205          GESUP            6288   \n",
      "7    ERRO    ERRO          ERRO  ERRO  ERRO           ERRO            ERRO   \n",
      "8      43  IMP-18  172.16.10.31    12  1202          COSUC           35417   \n",
      "9    ERRO    ERRO          ERRO  ERRO  ERRO           ERRO            ERRO   \n",
      "10     71  IMP-22  172.16.14.33    14  1406  DAGEF / DAPPG           32834   \n",
      "11     91  IMP-24  172.16.12.35    13  1314            AHC           26096   \n",
      "12   ERRO    ERRO          ERRO  ERRO  ERRO           ERRO            ERRO   \n",
      "13   ERRO    ERRO          ERRO  ERRO  ERRO           ERRO            ERRO   \n",
      "14   ERRO    ERRO          ERRO  ERRO  ERRO           ERRO            ERRO   \n",
      "15   ERRO    ERRO          ERRO  ERRO  ERRO           ERRO            ERRO   \n",
      "16     48  IMP-34  172.16.13.40    13  1309          COLOG           47634   \n",
      "17     76  IMP-36  172.16.10.37    12  1208          COTCE           26924   \n",
      "18     82  IMP-38  172.16.12.38    13  1308   ASSESSORIA 2           19662   \n",
      "19     97  IMP-40  172.16.10.34    12  1212          SUGOV           36617   \n",
      "20   ERRO    ERRO          ERRO  ERRO  ERRO           ERRO            ERRO   \n",
      "21   ERRO    ERRO          ERRO  ERRO  ERRO           ERRO            ERRO   \n",
      "22   ERRO    ERRO          ERRO  ERRO  ERRO           ERRO            ERRO   \n",
      "23     83  IMP-09  172.16.12.30    13  1315      PROTOCOLO           41492   \n",
      "24     72  IMP-11  172.16.13.34    13  1301          SUBGI           21135   \n",
      "25   ERRO    ERRO          ERRO  ERRO  ERRO           ERRO            ERRO   \n",
      "26   ERRO    ERRO          ERRO  ERRO  ERRO           ERRO            ERRO   \n",
      "27     95  IMP-17  172.16.13.35    13  1305          COGEP           86691   \n",
      "28     49  IMP-19  172.16.14.36    14  1408          CODAG           15883   \n",
      "29     38  IMP-21  172.16.14.32    14  1414          COLES           51112   \n",
      "30     53  IMP-23  172.16.14.41    14  1410          COAUC           34275   \n",
      "31     60  IMP-25  172.16.11.37    12  1201           OGDF           32488   \n",
      "32     91  IMP-27  172.16.14.30    14  1406          COAPP           19386   \n",
      "33     66  IMP-29  172.16.14.40    14  1400          SUBCI           59772   \n",
      "34   ERRO    ERRO          ERRO  ERRO  ERRO           ERRO            ERRO   \n",
      "35   ERRO    ERRO          ERRO  ERRO  ERRO           ERRO            ERRO   \n",
      "36   ERRO    ERRO          ERRO  ERRO  ERRO           ERRO            ERRO   \n",
      "37     65  IMP-37  172.16.13.38    13  1308          AINFE           20069   \n",
      "38     58  IMP-39  172.16.12.40    13  1310          COPTC           35230   \n",
      "\n",
      "   total_scan total_cilindro          dt  \n",
      "0        ERRO           ERRO  2021-09-13  \n",
      "1        1673            60%  2021-09-13  \n",
      "2        6208            90%  2021-09-13  \n",
      "3        ERRO           ERRO  2021-09-13  \n",
      "4        8791            56%  2021-09-13  \n",
      "5       22823            59%  2021-09-13  \n",
      "6                        87%  2021-09-13  \n",
      "7        ERRO           ERRO  2021-09-13  \n",
      "8       26854            79%  2021-09-13  \n",
      "9        ERRO           ERRO  2021-09-13  \n",
      "10          6            54%  2021-09-13  \n",
      "11                       75%  2021-09-13  \n",
      "12       ERRO           ERRO  2021-09-13  \n",
      "13       ERRO           ERRO  2021-09-13  \n",
      "14       ERRO           ERRO  2021-09-13  \n",
      "15       ERRO           ERRO  2021-09-13  \n",
      "16       7082            57%  2021-09-13  \n",
      "17                       99%  2021-09-13  \n",
      "18                       94%  2021-09-13  \n",
      "19       5981            71%  2021-09-13  \n",
      "20       ERRO           ERRO  2021-09-13  \n",
      "21       ERRO           ERRO  2021-09-13  \n",
      "22       ERRO           ERRO  2021-09-13  \n",
      "23       5951            39%  2021-09-13  \n",
      "24       2959            66%  2021-09-13  \n",
      "25       ERRO           ERRO  2021-09-13  \n",
      "26       ERRO           ERRO  2021-09-13  \n",
      "27      29332            55%  2021-09-13  \n",
      "28                       25%  2021-09-13  \n",
      "29        868            94%  2021-09-13  \n",
      "30         16            46%  2021-09-13  \n",
      "31      16326            70%  2021-09-13  \n",
      "32                       96%  2021-09-13  \n",
      "33        116            59%  2021-09-13  \n",
      "34       ERRO           ERRO  2021-09-13  \n",
      "35       ERRO           ERRO  2021-09-13  \n",
      "36       ERRO           ERRO  2021-09-13  \n",
      "37                       22%  2021-09-13  \n",
      "38                       54%  2021-09-13  \n"
     ]
    }
   ],
   "metadata": {}
  },
  {
   "cell_type": "code",
   "execution_count": 8,
   "source": [
    "dff = df.apply(lambda x: x.str.strip() \r\n",
    "                if x.dtype == \"object\" else x)  # Trim whitespaces\r\n",
    "\r\n",
    "count_row = dff.shape[0]\r\n",
    "\r\n",
    "\r\n",
    "table = dash_table.DataTable(id='memory-table',\r\n",
    "                            columns=[{\"name\": i, \"id\": i} for i in dff.columns],\r\n",
    "                            data = dff.to_dict('records')\r\n",
    "                            )\r\n",
    "\r\n",
    "badge = dbc.Button(\r\n",
    "    [\"Total:\", dbc.Badge(count_row, color=\"secondary\", className=\"ml-1\")],\r\n",
    "    color=\"primary\",style={'position':'absolute'}\r\n",
    ")\r\n",
    "\r\n",
    "print(table)"
   ],
   "outputs": [
    {
     "output_type": "stream",
     "name": "stdout",
     "text": [
      "DataTable(id='memory-table', columns=[{'name': 'tonner', 'id': 'tonner'}, {'name': 'nome', 'id': 'nome'}, {'name': 'ipv4', 'id': 'ipv4'}, {'name': 'andar', 'id': 'andar'}, {'name': 'sala', 'id': 'sala'}, {'name': 'setor', 'id': 'setor'}, {'name': 'total_impressao', 'id': 'total_impressao'}, {'name': 'total_scan', 'id': 'total_scan'}, {'name': 'total_cilindro', 'id': 'total_cilindro'}, {'name': 'dt', 'id': 'dt'}], data=[{'tonner': 'ERRO', 'nome': 'ERRO', 'ipv4': 'ERRO', 'andar': 'ERRO', 'sala': 'ERRO', 'setor': 'ERRO', 'total_impressao': 'ERRO', 'total_scan': 'ERRO', 'total_cilindro': 'ERRO', 'dt': '2021-09-13'}, {'tonner': '26', 'nome': 'IMP-03', 'ipv4': '172.16.11.36', 'andar': '12', 'sala': '1207', 'setor': 'CODEO', 'total_impressao': '15521', 'total_scan': '1673', 'total_cilindro': '60%', 'dt': '2021-09-13'}, {'tonner': '37', 'nome': 'IMP-05', 'ipv4': '172.16.12.31', 'andar': '13', 'sala': '1314', 'setor': 'AJL', 'total_impressao': '46036', 'total_scan': '6208', 'total_cilindro': '90%', 'dt': '2021-09-13'}, {'tonner': 'ERRO', 'nome': 'ERRO', 'ipv4': 'ERRO', 'andar': 'ERRO', 'sala': 'ERRO', 'setor': 'ERRO', 'total_impressao': 'ERRO', 'total_scan': 'ERRO', 'total_cilindro': 'ERRO', 'dt': '2021-09-13'}, {'tonner': '63', 'nome': 'IMP-10', 'ipv4': '172.16.10.38', 'andar': '12', 'sala': '1210', 'setor': 'SUBTC', 'total_impressao': '37715', 'total_scan': '8791', 'total_cilindro': '56%', 'dt': '2021-09-13'}, {'tonner': '78', 'nome': 'IMP-12', 'ipv4': '172.16.12.37', 'andar': '13', 'sala': '1300', 'setor': 'GABINETE CGDF', 'total_impressao': '37827', 'total_scan': '22823', 'total_cilindro': '59%', 'dt': '2021-09-13'}, {'tonner': '1', 'nome': 'IMP-14', 'ipv4': '172.16.12.39', 'andar': '12', 'sala': '1205', 'setor': 'GESUP', 'total_impressao': '6288', 'total_scan': '', 'total_cilindro': '87%', 'dt': '2021-09-13'}, {'tonner': 'ERRO', 'nome': 'ERRO', 'ipv4': 'ERRO', 'andar': 'ERRO', 'sala': 'ERRO', 'setor': 'ERRO', 'total_impressao': 'ERRO', 'total_scan': 'ERRO', 'total_cilindro': 'ERRO', 'dt': '2021-09-13'}, {'tonner': '43', 'nome': 'IMP-18', 'ipv4': '172.16.10.31', 'andar': '12', 'sala': '1202', 'setor': 'COSUC', 'total_impressao': '35417', 'total_scan': '26854', 'total_cilindro': '79%', 'dt': '2021-09-13'}, {'tonner': 'ERRO', 'nome': 'ERRO', 'ipv4': 'ERRO', 'andar': 'ERRO', 'sala': 'ERRO', 'setor': 'ERRO', 'total_impressao': 'ERRO', 'total_scan': 'ERRO', 'total_cilindro': 'ERRO', 'dt': '2021-09-13'}, {'tonner': '71', 'nome': 'IMP-22', 'ipv4': '172.16.14.33', 'andar': '14', 'sala': '1406', 'setor': 'DAGEF / DAPPG', 'total_impressao': '32834', 'total_scan': '6', 'total_cilindro': '54%', 'dt': '2021-09-13'}, {'tonner': '91', 'nome': 'IMP-24', 'ipv4': '172.16.12.35', 'andar': '13', 'sala': '1314', 'setor': 'AHC', 'total_impressao': '26096', 'total_scan': '', 'total_cilindro': '75%', 'dt': '2021-09-13'}, {'tonner': 'ERRO', 'nome': 'ERRO', 'ipv4': 'ERRO', 'andar': 'ERRO', 'sala': 'ERRO', 'setor': 'ERRO', 'total_impressao': 'ERRO', 'total_scan': 'ERRO', 'total_cilindro': 'ERRO', 'dt': '2021-09-13'}, {'tonner': 'ERRO', 'nome': 'ERRO', 'ipv4': 'ERRO', 'andar': 'ERRO', 'sala': 'ERRO', 'setor': 'ERRO', 'total_impressao': 'ERRO', 'total_scan': 'ERRO', 'total_cilindro': 'ERRO', 'dt': '2021-09-13'}, {'tonner': 'ERRO', 'nome': 'ERRO', 'ipv4': 'ERRO', 'andar': 'ERRO', 'sala': 'ERRO', 'setor': 'ERRO', 'total_impressao': 'ERRO', 'total_scan': 'ERRO', 'total_cilindro': 'ERRO', 'dt': '2021-09-13'}, {'tonner': 'ERRO', 'nome': 'ERRO', 'ipv4': 'ERRO', 'andar': 'ERRO', 'sala': 'ERRO', 'setor': 'ERRO', 'total_impressao': 'ERRO', 'total_scan': 'ERRO', 'total_cilindro': 'ERRO', 'dt': '2021-09-13'}, {'tonner': '48', 'nome': 'IMP-34', 'ipv4': '172.16.13.40', 'andar': '13', 'sala': '1309', 'setor': 'COLOG', 'total_impressao': '47634', 'total_scan': '7082', 'total_cilindro': '57%', 'dt': '2021-09-13'}, {'tonner': '76', 'nome': 'IMP-36', 'ipv4': '172.16.10.37', 'andar': '12', 'sala': '1208', 'setor': 'COTCE', 'total_impressao': '26924', 'total_scan': '', 'total_cilindro': '99%', 'dt': '2021-09-13'}, {'tonner': '82', 'nome': 'IMP-38', 'ipv4': '172.16.12.38', 'andar': '13', 'sala': '1308', 'setor': 'ASSESSORIA 2', 'total_impressao': '19662', 'total_scan': '', 'total_cilindro': '94%', 'dt': '2021-09-13'}, {'tonner': '97', 'nome': 'IMP-40', 'ipv4': '172.16.10.34', 'andar': '12', 'sala': '1212', 'setor': 'SUGOV', 'total_impressao': '36617', 'total_scan': '5981', 'total_cilindro': '71%', 'dt': '2021-09-13'}, {'tonner': 'ERRO', 'nome': 'ERRO', 'ipv4': 'ERRO', 'andar': 'ERRO', 'sala': 'ERRO', 'setor': 'ERRO', 'total_impressao': 'ERRO', 'total_scan': 'ERRO', 'total_cilindro': 'ERRO', 'dt': '2021-09-13'}, {'tonner': 'ERRO', 'nome': 'ERRO', 'ipv4': 'ERRO', 'andar': 'ERRO', 'sala': 'ERRO', 'setor': 'ERRO', 'total_impressao': 'ERRO', 'total_scan': 'ERRO', 'total_cilindro': 'ERRO', 'dt': '2021-09-13'}, {'tonner': 'ERRO', 'nome': 'ERRO', 'ipv4': 'ERRO', 'andar': 'ERRO', 'sala': 'ERRO', 'setor': 'ERRO', 'total_impressao': 'ERRO', 'total_scan': 'ERRO', 'total_cilindro': 'ERRO', 'dt': '2021-09-13'}, {'tonner': '83', 'nome': 'IMP-09', 'ipv4': '172.16.12.30', 'andar': '13', 'sala': '1315', 'setor': 'PROTOCOLO', 'total_impressao': '41492', 'total_scan': '5951', 'total_cilindro': '39%', 'dt': '2021-09-13'}, {'tonner': '72', 'nome': 'IMP-11', 'ipv4': '172.16.13.34', 'andar': '13', 'sala': '1301', 'setor': 'SUBGI', 'total_impressao': '21135', 'total_scan': '2959', 'total_cilindro': '66%', 'dt': '2021-09-13'}, {'tonner': 'ERRO', 'nome': 'ERRO', 'ipv4': 'ERRO', 'andar': 'ERRO', 'sala': 'ERRO', 'setor': 'ERRO', 'total_impressao': 'ERRO', 'total_scan': 'ERRO', 'total_cilindro': 'ERRO', 'dt': '2021-09-13'}, {'tonner': 'ERRO', 'nome': 'ERRO', 'ipv4': 'ERRO', 'andar': 'ERRO', 'sala': 'ERRO', 'setor': 'ERRO', 'total_impressao': 'ERRO', 'total_scan': 'ERRO', 'total_cilindro': 'ERRO', 'dt': '2021-09-13'}, {'tonner': '95', 'nome': 'IMP-17', 'ipv4': '172.16.13.35', 'andar': '13', 'sala': '1305', 'setor': 'COGEP', 'total_impressao': '86691', 'total_scan': '29332', 'total_cilindro': '55%', 'dt': '2021-09-13'}, {'tonner': '49', 'nome': 'IMP-19', 'ipv4': '172.16.14.36', 'andar': '14', 'sala': '1408', 'setor': 'CODAG', 'total_impressao': '15883', 'total_scan': '', 'total_cilindro': '25%', 'dt': '2021-09-13'}, {'tonner': '38', 'nome': 'IMP-21', 'ipv4': '172.16.14.32', 'andar': '14', 'sala': '1414', 'setor': 'COLES', 'total_impressao': '51112', 'total_scan': '868', 'total_cilindro': '94%', 'dt': '2021-09-13'}, {'tonner': '53', 'nome': 'IMP-23', 'ipv4': '172.16.14.41', 'andar': '14', 'sala': '1410', 'setor': 'COAUC', 'total_impressao': '34275', 'total_scan': '16', 'total_cilindro': '46%', 'dt': '2021-09-13'}, {'tonner': '60', 'nome': 'IMP-25', 'ipv4': '172.16.11.37', 'andar': '12', 'sala': '1201', 'setor': 'OGDF', 'total_impressao': '32488', 'total_scan': '16326', 'total_cilindro': '70%', 'dt': '2021-09-13'}, {'tonner': '91', 'nome': 'IMP-27', 'ipv4': '172.16.14.30', 'andar': '14', 'sala': '1406', 'setor': 'COAPP', 'total_impressao': '19386', 'total_scan': '', 'total_cilindro': '96%', 'dt': '2021-09-13'}, {'tonner': '66', 'nome': 'IMP-29', 'ipv4': '172.16.14.40', 'andar': '14', 'sala': '1400', 'setor': 'SUBCI', 'total_impressao': '59772', 'total_scan': '116', 'total_cilindro': '59%', 'dt': '2021-09-13'}, {'tonner': 'ERRO', 'nome': 'ERRO', 'ipv4': 'ERRO', 'andar': 'ERRO', 'sala': 'ERRO', 'setor': 'ERRO', 'total_impressao': 'ERRO', 'total_scan': 'ERRO', 'total_cilindro': 'ERRO', 'dt': '2021-09-13'}, {'tonner': 'ERRO', 'nome': 'ERRO', 'ipv4': 'ERRO', 'andar': 'ERRO', 'sala': 'ERRO', 'setor': 'ERRO', 'total_impressao': 'ERRO', 'total_scan': 'ERRO', 'total_cilindro': 'ERRO', 'dt': '2021-09-13'}, {'tonner': 'ERRO', 'nome': 'ERRO', 'ipv4': 'ERRO', 'andar': 'ERRO', 'sala': 'ERRO', 'setor': 'ERRO', 'total_impressao': 'ERRO', 'total_scan': 'ERRO', 'total_cilindro': 'ERRO', 'dt': '2021-09-13'}, {'tonner': '65', 'nome': 'IMP-37', 'ipv4': '172.16.13.38', 'andar': '13', 'sala': '1308', 'setor': 'AINFE', 'total_impressao': '20069', 'total_scan': '', 'total_cilindro': '22%', 'dt': '2021-09-13'}, {'tonner': '58', 'nome': 'IMP-39', 'ipv4': '172.16.12.40', 'andar': '13', 'sala': '1310', 'setor': 'COPTC', 'total_impressao': '35230', 'total_scan': '', 'total_cilindro': '54%', 'dt': '2021-09-13'}])\n"
     ]
    }
   ],
   "metadata": {}
  },
  {
   "cell_type": "code",
   "execution_count": 16,
   "source": [
    "fig = px.choropleth_mapbox(df_states, locations=\"estado\",\r\n",
    "    geojson=brazil_states, center={\"lat\": -16.95, \"lon\": -47.78},\r\n",
    "    zoom=3, color=\"casosNovos\", color_continuous_scale=\"Redor\", opacity=0.4)\r\n",
    "fig.update_layout(height=800)\r\n",
    "plot(fig)"
   ],
   "outputs": [
    {
     "output_type": "error",
     "ename": "NameError",
     "evalue": "name 'plot' is not defined",
     "traceback": [
      "\u001b[1;31m---------------------------------------------------------------------------\u001b[0m",
      "\u001b[1;31mNameError\u001b[0m                                 Traceback (most recent call last)",
      "\u001b[1;32mC:\\Users\\SUPORT~1\\AppData\\Local\\Temp/ipykernel_944/34911330.py\u001b[0m in \u001b[0;36m<module>\u001b[1;34m\u001b[0m\n\u001b[0;32m      3\u001b[0m     zoom=3, color=\"casosNovos\", color_continuous_scale=\"Redor\", opacity=0.4)\n\u001b[0;32m      4\u001b[0m \u001b[0mfig\u001b[0m\u001b[1;33m.\u001b[0m\u001b[0mupdate_layout\u001b[0m\u001b[1;33m(\u001b[0m\u001b[0mheight\u001b[0m\u001b[1;33m=\u001b[0m\u001b[1;36m800\u001b[0m\u001b[1;33m)\u001b[0m\u001b[1;33m\u001b[0m\u001b[1;33m\u001b[0m\u001b[0m\n\u001b[1;32m----> 5\u001b[1;33m \u001b[0mplot\u001b[0m\u001b[1;33m(\u001b[0m\u001b[0mfig\u001b[0m\u001b[1;33m)\u001b[0m\u001b[1;33m\u001b[0m\u001b[1;33m\u001b[0m\u001b[0m\n\u001b[0m",
      "\u001b[1;31mNameError\u001b[0m: name 'plot' is not defined"
     ]
    }
   ],
   "metadata": {}
  },
  {
   "cell_type": "code",
   "execution_count": null,
   "source": [],
   "outputs": [],
   "metadata": {}
  }
 ],
 "metadata": {
  "kernelspec": {
   "name": "python3",
   "display_name": "Python 3.9.6 64-bit"
  },
  "language_info": {
   "codemirror_mode": {
    "name": "ipython",
    "version": 3
   },
   "file_extension": ".py",
   "mimetype": "text/x-python",
   "name": "python",
   "nbconvert_exporter": "python",
   "pygments_lexer": "ipython3",
   "version": "3.9.6"
  },
  "interpreter": {
   "hash": "b068ed34e08882765f10add0a52e993cc70691c2b6f27f35aa1dca1c7b0e4a39"
  }
 },
 "nbformat": 4,
 "nbformat_minor": 5
}