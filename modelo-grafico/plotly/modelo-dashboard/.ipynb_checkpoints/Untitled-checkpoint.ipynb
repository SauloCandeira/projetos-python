{
 "cells": [
  {
   "cell_type": "code",
   "execution_count": 1,
   "source": [
    "import plotly.express as px\r\n",
    "import pandas as pd\r\n",
    "import json"
   ],
   "outputs": [],
   "metadata": {}
  },
  {
   "cell_type": "code",
   "execution_count": 10,
   "source": [
    "brazil_states = json.load(open(\"../geojson/brazil_geo.json\", \"r\"))\r\n",
    "df_states = pd.read_csv(\"../df_states.csv\")\r\n",
    "\r\n",
    "print(df_states)"
   ],
   "outputs": [
    {
     "output_type": "stream",
     "name": "stdout",
     "text": [
      "       Unnamed: 0        regiao estado  municipio  coduf  codmun  \\\n",
      "0             446         Norte     RO        NaN     11     NaN   \n",
      "1             447         Norte     RO        NaN     11     NaN   \n",
      "2             448         Norte     RO        NaN     11     NaN   \n",
      "3             449         Norte     RO        NaN     11     NaN   \n",
      "4             450         Norte     RO        NaN     11     NaN   \n",
      "...           ...           ...    ...        ...    ...     ...   \n",
      "11983       12429  Centro-Oeste     DF        NaN     53     NaN   \n",
      "11984       12430  Centro-Oeste     DF        NaN     53     NaN   \n",
      "11985       12431  Centro-Oeste     DF        NaN     53     NaN   \n",
      "11986       12432  Centro-Oeste     DF        NaN     53     NaN   \n",
      "11987       12433  Centro-Oeste     DF        NaN     53     NaN   \n",
      "\n",
      "       codRegiaoSaude  nomeRegiaoSaude        data  semanaEpi  \\\n",
      "0                 NaN              NaN  2020-02-25          9   \n",
      "1                 NaN              NaN  2020-02-26          9   \n",
      "2                 NaN              NaN  2020-02-27          9   \n",
      "3                 NaN              NaN  2020-02-28          9   \n",
      "4                 NaN              NaN  2020-02-29          9   \n",
      "...               ...              ...         ...        ...   \n",
      "11983             NaN              NaN  2021-05-09         19   \n",
      "11984             NaN              NaN  2021-05-10         19   \n",
      "11985             NaN              NaN  2021-05-11         19   \n",
      "11986             NaN              NaN  2021-05-12         19   \n",
      "11987             NaN              NaN  2021-05-13         19   \n",
      "\n",
      "       populacaoTCU2019  casosAcumulado  casosNovos  obitosAcumulado  \\\n",
      "0             1777225.0               0           0                0   \n",
      "1             1777225.0               0           0                0   \n",
      "2             1777225.0               0           0                0   \n",
      "3             1777225.0               0           0                0   \n",
      "4             1777225.0               0           0                0   \n",
      "...                 ...             ...         ...              ...   \n",
      "11983         3015268.0          386688         925             8113   \n",
      "11984         3015268.0          387520         832             8150   \n",
      "11985         3015268.0          388286         766             8184   \n",
      "11986         3015268.0          389178         892             8217   \n",
      "11987         3015268.0          390117         939             8251   \n",
      "\n",
      "       obitosNovos  Recuperadosnovos  emAcompanhamentoNovos  \\\n",
      "0                0               NaN                    NaN   \n",
      "1                0               NaN                    NaN   \n",
      "2                0               NaN                    NaN   \n",
      "3                0               NaN                    NaN   \n",
      "4                0               NaN                    NaN   \n",
      "...            ...               ...                    ...   \n",
      "11983           26               NaN                    NaN   \n",
      "11984           37               NaN                    NaN   \n",
      "11985           34               NaN                    NaN   \n",
      "11986           33               NaN                    NaN   \n",
      "11987           34               NaN                    NaN   \n",
      "\n",
      "       interior/metropolitana  \n",
      "0                         NaN  \n",
      "1                         NaN  \n",
      "2                         NaN  \n",
      "3                         NaN  \n",
      "4                         NaN  \n",
      "...                       ...  \n",
      "11983                     NaN  \n",
      "11984                     NaN  \n",
      "11985                     NaN  \n",
      "11986                     NaN  \n",
      "11987                     NaN  \n",
      "\n",
      "[11988 rows x 18 columns]\n"
     ]
    }
   ],
   "metadata": {}
  },
  {
   "cell_type": "code",
   "execution_count": 16,
   "source": [
    "fig = px.choropleth_mapbox(df_states, locations=\"estado\",\r\n",
    "    geojson=brazil_states, center={\"lat\": -16.95, \"lon\": -47.78},\r\n",
    "    zoom=3, color=\"casosNovos\", color_continuous_scale=\"Redor\", opacity=0.4)\r\n",
    "fig.update_layout(height=800)\r\n",
    "plot(fig)"
   ],
   "outputs": [
    {
     "output_type": "error",
     "ename": "NameError",
     "evalue": "name 'plot' is not defined",
     "traceback": [
      "\u001b[1;31m---------------------------------------------------------------------------\u001b[0m",
      "\u001b[1;31mNameError\u001b[0m                                 Traceback (most recent call last)",
      "\u001b[1;32mC:\\Users\\SUPORT~1\\AppData\\Local\\Temp/ipykernel_944/34911330.py\u001b[0m in \u001b[0;36m<module>\u001b[1;34m\u001b[0m\n\u001b[0;32m      3\u001b[0m     zoom=3, color=\"casosNovos\", color_continuous_scale=\"Redor\", opacity=0.4)\n\u001b[0;32m      4\u001b[0m \u001b[0mfig\u001b[0m\u001b[1;33m.\u001b[0m\u001b[0mupdate_layout\u001b[0m\u001b[1;33m(\u001b[0m\u001b[0mheight\u001b[0m\u001b[1;33m=\u001b[0m\u001b[1;36m800\u001b[0m\u001b[1;33m)\u001b[0m\u001b[1;33m\u001b[0m\u001b[1;33m\u001b[0m\u001b[0m\n\u001b[1;32m----> 5\u001b[1;33m \u001b[0mplot\u001b[0m\u001b[1;33m(\u001b[0m\u001b[0mfig\u001b[0m\u001b[1;33m)\u001b[0m\u001b[1;33m\u001b[0m\u001b[1;33m\u001b[0m\u001b[0m\n\u001b[0m",
      "\u001b[1;31mNameError\u001b[0m: name 'plot' is not defined"
     ]
    }
   ],
   "metadata": {}
  },
  {
   "cell_type": "code",
   "execution_count": null,
   "source": [],
   "outputs": [],
   "metadata": {}
  }
 ],
 "metadata": {
  "kernelspec": {
   "name": "python3",
   "display_name": "Python 3.9.6 64-bit"
  },
  "language_info": {
   "codemirror_mode": {
    "name": "ipython",
    "version": 3
   },
   "file_extension": ".py",
   "mimetype": "text/x-python",
   "name": "python",
   "nbconvert_exporter": "python",
   "pygments_lexer": "ipython3",
   "version": "3.9.6"
  },
  "interpreter": {
   "hash": "c80e544ec111088e2f6dc801e1db3f1214225b608fdf7314f9da9f2659d0f6db"
  }
 },
 "nbformat": 4,
 "nbformat_minor": 5
}